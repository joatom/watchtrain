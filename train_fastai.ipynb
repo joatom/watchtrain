{
 "cells": [
  {
   "cell_type": "code",
   "execution_count": 1,
   "metadata": {},
   "outputs": [],
   "source": [
    "#!pip install websocket-client"
   ]
  },
  {
   "cell_type": "code",
   "execution_count": 2,
   "metadata": {},
   "outputs": [],
   "source": [
    "from fastai.vision.all import *\n",
    "from fastai.test_utils import VerboseCallback\n",
    "\n",
    "from callbacks.websocket_logger import WebsocketLogger"
   ]
  },
  {
   "cell_type": "code",
   "execution_count": 3,
   "metadata": {},
   "outputs": [],
   "source": [
    "mnist_db = DataBlock(blocks=(ImageBlock, CategoryBlock), \n",
    "                  splitter= RandomSplitter(),\n",
    "                  get_items=get_image_files,\n",
    "                  get_y=parent_label)"
   ]
  },
  {
   "cell_type": "code",
   "execution_count": 4,
   "metadata": {},
   "outputs": [],
   "source": [
    "dls = mnist_db.dataloaders(untar_data(URLs.MNIST), bs=128)"
   ]
  },
  {
   "cell_type": "code",
   "execution_count": 5,
   "metadata": {},
   "outputs": [
    {
     "data": {
      "image/png": "[encoded data removed]",
      "text/plain": [
       "<Figure size 288x288 with 9 Axes>"
      ]
     },
     "metadata": {
      "needs_background": "light"
     },
     "output_type": "display_data"
    }
   ],
   "source": [
    "dls.show_batch(max_n=9, figsize=(4,4))"
   ]
  },
  {
   "cell_type": "code",
   "execution_count": 6,
   "metadata": {
    "jupyter": {
     "source_hidden": true
    }
   },
   "outputs": [],
   "source": [
    "class SimpleModel(nn.Module):\n",
    "    \n",
    "    def __init__(self):\n",
    "        super(SimpleModel, self).__init__()\n",
    "        \n",
    "        self.con = nn.Conv2d(3, 64, kernel_size=(3,3), stride = (2, 2), padding=(1,1), bias=False)\n",
    "        self.bn1 = nn.BatchNorm2d(64)\n",
    "        self.relu = nn.ReLU(inplace=True)\n",
    "        \n",
    "        self.pool = nn.AvgPool2d(kernel_size=5, stride=3, padding=1)\n",
    "        self.flat = nn.Flatten()\n",
    "        \n",
    "        self.bn2 = nn.BatchNorm1d(1024)\n",
    "        self.drop = nn.Dropout(p=0.5)\n",
    "        self.lin = nn.Linear(in_features=1024, out_features=10, bias=False)\n",
    "        \n",
    "    \n",
    "    def forward(self, x):\n",
    "        x = self.con(x)\n",
    "        x = self.relu(self.bn1(x))\n",
    "        \n",
    "        x = self.pool(x)\n",
    "        x = self.flat(x)\n",
    "        \n",
    "        x = self.bn2(x)\n",
    "        x = self.drop(x)\n",
    "        x = self.lin(x)\n",
    "        \n",
    "        return x\n"
   ]
  },
  {
   "cell_type": "code",
   "execution_count": 7,
   "metadata": {
    "jupyter": {
     "source_hidden": true
    }
   },
   "outputs": [],
   "source": [
    "\n",
    "#learn = Learner(dls, SimpleModel(), metrics=[accuracy, Recall(average='macro')]) #, Precision(average='macro')\n",
    "#to(memory_format=torch.channels_last) #issue54404"
   ]
  },
  {
   "cell_type": "code",
   "execution_count": 8,
   "metadata": {
    "jupyter": {
     "source_hidden": true
    }
   },
   "outputs": [],
   "source": [
    "#learn.fit(3, lr=1e-3, cbs=[ShowGraphCallback(), WebsocketLogger('ws://maichine:8555/ws/watchtrain/producer/99879')])"
   ]
  },
  {
   "cell_type": "code",
   "execution_count": null,
   "metadata": {},
   "outputs": [
    {
     "name": "stdout",
     "output_type": "stream",
     "text": [
      "Connecting websocket ...\n",
      "... websocket connected.\n",
      "Training id : 5\n"
     ]
    },
    {
     "data": {
      "text/html": [
       "\n",
       "    <div>\n",
       "        <style>\n",
       "            /* Turns off some styling */\n",
       "            progress {\n",
       "                /* gets rid of default border in Firefox and Opera. */\n",
       "                border: none;\n",
       "                /* Needs to be in here for Safari polyfill so background images work as expected. */\n",
       "                background-size: auto;\n",
       "            }\n",
       "            .progress-bar-interrupted, .progress-bar-interrupted::-webkit-progress-bar {\n",
       "                background: #F44336;\n",
       "            }\n",
       "        </style>\n",
       "      <progress value='8' class='' max='10' style='width:300px; height:20px; vertical-align: middle;'></progress>\n",
       "      80.00% [8/10 04:22<01:05]\n",
       "    </div>\n",
       "    \n",
       "<table border=\"1\" class=\"dataframe\">\n",
       "  <thead>\n",
       "    <tr style=\"text-align: left;\">\n",
       "      <th>epoch</th>\n",
       "      <th>train_loss</th>\n",
       "      <th>valid_loss</th>\n",
       "      <th>accuracy</th>\n",
       "      <th>recall_score</th>\n",
       "      <th>time</th>\n",
       "    </tr>\n",
       "  </thead>\n",
       "  <tbody>\n",
       "    <tr>\n",
       "      <td>0</td>\n",
       "      <td>0.154904</td>\n",
       "      <td>0.353889</td>\n",
       "      <td>0.904571</td>\n",
       "      <td>0.902742</td>\n",
       "      <td>00:30</td>\n",
       "    </tr>\n",
       "    <tr>\n",
       "      <td>1</td>\n",
       "      <td>0.127846</td>\n",
       "      <td>0.131212</td>\n",
       "      <td>0.964500</td>\n",
       "      <td>0.963465</td>\n",
       "      <td>00:29</td>\n",
       "    </tr>\n",
       "    <tr>\n",
       "      <td>2</td>\n",
       "      <td>0.106509</td>\n",
       "      <td>0.134789</td>\n",
       "      <td>0.966571</td>\n",
       "      <td>0.965722</td>\n",
       "      <td>00:32</td>\n",
       "    </tr>\n",
       "    <tr>\n",
       "      <td>3</td>\n",
       "      <td>0.071881</td>\n",
       "      <td>0.046800</td>\n",
       "      <td>0.985786</td>\n",
       "      <td>0.985765</td>\n",
       "      <td>00:32</td>\n",
       "    </tr>\n",
       "    <tr>\n",
       "      <td>4</td>\n",
       "      <td>0.047329</td>\n",
       "      <td>0.032764</td>\n",
       "      <td>0.991071</td>\n",
       "      <td>0.991050</td>\n",
       "      <td>00:33</td>\n",
       "    </tr>\n",
       "    <tr>\n",
       "      <td>5</td>\n",
       "      <td>0.031101</td>\n",
       "      <td>0.030552</td>\n",
       "      <td>0.992214</td>\n",
       "      <td>0.992068</td>\n",
       "      <td>00:32</td>\n",
       "    </tr>\n",
       "    <tr>\n",
       "      <td>6</td>\n",
       "      <td>0.024050</td>\n",
       "      <td>0.029370</td>\n",
       "      <td>0.993000</td>\n",
       "      <td>0.992955</td>\n",
       "      <td>00:34</td>\n",
       "    </tr>\n",
       "    <tr>\n",
       "      <td>7</td>\n",
       "      <td>0.010435</td>\n",
       "      <td>0.026807</td>\n",
       "      <td>0.993357</td>\n",
       "      <td>0.993286</td>\n",
       "      <td>00:35</td>\n",
       "    </tr>\n",
       "  </tbody>\n",
       "</table><p>\n",
       "\n",
       "    <div>\n",
       "        <style>\n",
       "            /* Turns off some styling */\n",
       "            progress {\n",
       "                /* gets rid of default border in Firefox and Opera. */\n",
       "                border: none;\n",
       "                /* Needs to be in here for Safari polyfill so background images work as expected. */\n",
       "                background-size: auto;\n",
       "            }\n",
       "            .progress-bar-interrupted, .progress-bar-interrupted::-webkit-progress-bar {\n",
       "                background: #F44336;\n",
       "            }\n",
       "        </style>\n",
       "      <progress value='210' class='' max='437' style='width:300px; height:20px; vertical-align: middle;'></progress>\n",
       "      48.05% [210/437 00:12<00:13 0.0079]\n",
       "    </div>\n",
       "    "
      ],
      "text/plain": [
       "<IPython.core.display.HTML object>"
      ]
     },
     "metadata": {},
     "output_type": "display_data"
    },
    {
     "data": {
      "image/png": "[encoded data removed]",
      "text/plain": [
       "<Figure size 432x288 with 1 Axes>"
      ]
     },
     "metadata": {},
     "output_type": "display_data"
    }
   ],
   "source": [
    "learn = cnn_learner(dls, resnet18, pretrained = False, metrics=[accuracy, Recall(average='macro')]) #, Precision(average='macro')\n",
    "\n",
    "learn.unfreeze\n",
    "learn.fit_one_cycle(10, lr_max = 5e-3, cbs=[ShowGraphCallback(), WebsocketLogger('ws://maichine:8555/ws/watchtrain/producer/99879')])"
   ]
  },
  {
   "cell_type": "markdown",
   "metadata": {},
   "source": [
    "#### "
   ]
  },
  {
   "cell_type": "code",
   "execution_count": null,
   "metadata": {},
   "outputs": [],
   "source": []
  }
 ],
 "metadata": {
  "kernelspec": {
   "display_name": "Python [conda env:ml]",
   "language": "python",
   "name": "conda-env-ml-py"
  },
  "language_info": {
   "codemirror_mode": {
    "name": "ipython",
    "version": 3
   },
   "file_extension": ".py",
   "mimetype": "text/x-python",
   "name": "python",
   "nbconvert_exporter": "python",
   "pygments_lexer": "ipython3",
   "version": "3.6.12"
  }
 },
 "nbformat": 4,
 "nbformat_minor": 4
}
